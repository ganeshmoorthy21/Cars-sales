{
  "nbformat": 4,
  "nbformat_minor": 0,
  "metadata": {
    "colab": {
      "provenance": []
    },
    "kernelspec": {
      "name": "python3",
      "display_name": "Python 3"
    },
    "language_info": {
      "name": "python"
    }
  },
  "cells": [
    {
      "cell_type": "markdown",
      "source": [
        "# **Question 1: What is Deep Learning? Briefly describe how it evolved and how it differs from traditional machine learning.**\n",
        "\n",
        "**Answer:**\n",
        "Deep learning is a subfield of machine learning that builds and trains artificial neural networks with many layers (hence “deep”) to automatically learn hierarchical representations of data. At its core, deep learning models transform raw input through multiple successive layers of linear and non-linear operations so that low-level features (edges, simple patterns) are combined into higher-level concepts (objects, semantics) without manual feature engineering. Historically, deep learning evolved from early ideas in artificial neural networks in the 1940s–1960s (McCulloch–Pitts neurons, perceptrons), through the backpropagation revival of the 1980s that made multilayer networks trainable, then a period of limited progress in the 1990s and early 2000s due to computational and data constraints, and finally a dramatic resurgence in the late 2000s–2010s driven by three converging trends: large labeled datasets, more powerful GPUs and distributed compute, and algorithmic improvements (better activation functions, initialization schemes, regularization, and architectures like convolutional and recurrent networks).\n",
        "Deep learning differs from traditional (often called “shallow”) machine learning in several important ways. Traditional methods typically require manual feature extraction (domain experts design features) and then apply simpler models (logistic regression, SVMs, decision trees) to those features; by contrast, deep networks learn features and the classifier/regressor jointly from end to end. Architecturally, deep models use many nonlinear transformations, which gives them far greater representational capacity — they can approximate extremely complex functions and automatically capture hierarchies in data. Practically, deep learning often requires much more data and compute, can be less interpretable, and benefits strongly from GPU acceleration and specialized training strategies. Finally, while traditional ML methods remain competitive and preferable in low-data or very structured settings, deep learning has proven especially powerful for unstructured data types (images, audio, text) and tasks where end-to-end representation learning yields substantial gains."
      ],
      "metadata": {
        "id": "5SxzTUJFqjZI"
      }
    },
    {
      "cell_type": "markdown",
      "source": [
        "# **Question 2: Explain the basic architecture and functioning of a Perceptron. What are its limitations?**\n",
        "\n",
        "**Answer:**\n",
        "\n",
        "A perceptron is the simplest form of an artificial neuron and serves as the fundamental building block for neural networks.  \n",
        "The basic architecture of a single perceptron consists of multiple input values:\n",
        "\n",
        "\\[\n",
        "x_1, x_2, \\dots, x_n\n",
        "\\]\n",
        "\n",
        "Each input is multiplied by an associated weight:\n",
        "\n",
        "\\[\n",
        "w_1, w_2, \\dots, w_n\n",
        "\\]\n",
        "\n",
        "The weighted inputs are summed together along with a bias term \\(b\\), producing:\n",
        "\n",
        "\\[\n",
        "z = \\sum_{i=1}^n w_i x_i + b\n",
        "\\]\n",
        "\n",
        "This scalar \\(z\\) is then passed through an **activation function** (in the original perceptron, a step function) that outputs a binary decision:  \n",
        "- \\(1\\) if \\(z\\) is above a threshold  \n",
        "- \\(0\\) otherwise  \n",
        "\n",
        "The perceptron learning rule updates weights iteratively based on prediction errors.  \n",
        "For misclassified samples:\n",
        "\n",
        "\\[\n",
        "\\Delta w = \\eta (y - \\hat{y}) x\n",
        "\\]\n",
        "\n",
        "where \\(\\eta\\) is the learning rate, \\(y\\) is the true label, and \\(\\hat{y}\\) is the predicted label.  \n",
        "\n",
        "Over repeated passes through labeled training data, the perceptron converges when the data are **linearly separable**.  \n",
        "Functionally, a perceptron implements a **linear decision boundary** in the input space — it partitions the space by a hyperplane and assigns class labels on either side.  \n",
        "\n",
        "### Limitations:\n",
        "- Can only solve **linearly separable problems** (e.g., AND, OR)  \n",
        "- Cannot represent **nonlinear problems** (e.g., XOR)  \n",
        "- Sensitive to feature scaling  \n",
        "- Unable to model complex patterns without stacking multiple layers  \n",
        "- Uses a deterministic step activation, which provides no smooth gradients for probabilistic interpretation or gradient-based training  \n",
        "\n",
        "These limitations motivated the move to **Multilayer Perceptrons (MLPs)** with smooth activation functions (like sigmoid, tanh, ReLU) and the backpropagation algorithm for training.\n"
      ],
      "metadata": {
        "id": "4M_L3Blsqt99"
      }
    },
    {
      "cell_type": "markdown",
      "source": [
        "## **Question 3: Describe the purpose of activation function in neural networks. Compare Sigmoid, ReLU, and Tanh functions.**\n",
        "\n",
        "**Answer:**\n",
        "\n",
        "Activation functions introduce **nonlinearity** into neural networks.  \n",
        "Without them, multiple layers would collapse into a single linear transformation, making the network no more powerful than a linear model.  \n",
        "They allow neural networks to approximate complex functions and capture nonlinear relationships.\n",
        "\n",
        "### Common activation functions:\n",
        "\n",
        "1. **Sigmoid**\n",
        "   \\[\n",
        "   \\sigma(z) = \\frac{1}{1 + e^{-z}}\n",
        "   \\]\n",
        "   - Output range: (0, 1)  \n",
        "   - Useful for probabilities in binary classification  \n",
        "   - **Limitations:** Not zero-centered, suffers from vanishing gradient for large \\(|z|\\)  \n",
        "\n",
        "2. **Tanh**\n",
        "   \\[\n",
        "   \\tanh(z) = \\frac{e^z - e^{-z}}{e^z + e^{-z}}\n",
        "   \\]\n",
        "   - Output range: (-1, 1)  \n",
        "   - Zero-centered, often better than sigmoid  \n",
        "   - **Limitations:** Still suffers from vanishing gradients  \n",
        "\n",
        "3. **ReLU (Rectified Linear Unit)**\n",
        "   \\[\n",
        "   \\text{ReLU}(z) = \\max(0, z)\n",
        "   \\]\n",
        "   - Fast and simple to compute  \n",
        "   - Helps mitigate vanishing gradients  \n",
        "   - Produces sparse activations  \n",
        "   - **Limitations:** \"Dying ReLU\" problem when neurons output 0 permanently  \n",
        "\n",
        "### Summary:\n",
        "- Sigmoid → good for binary output layers  \n",
        "- Tanh → better hidden-layer choice than sigmoid, but still limited  \n",
        "- ReLU → default for hidden layers in modern deep learning  \n"
      ],
      "metadata": {
        "id": "X6MqtscmrIwc"
      }
    },
    {
      "cell_type": "markdown",
      "source": [
        "## **Question 4: What is the difference between Loss function and Cost function in neural networks? Provide examples.**\n",
        "\n",
        "**Answer:**\n",
        "\n",
        "- A **Loss function** measures the error for a **single training example**.  \n",
        "- A **Cost function** aggregates the losses over the entire dataset (or a batch) to give a single scalar objective for optimization.  \n",
        "\n",
        "### Formal definitions:\n",
        "\n",
        "For a single sample:\n",
        "\\[\n",
        "L(\\hat{y}, y)\n",
        "\\]\n",
        "\n",
        "For \\(m\\) training samples:\n",
        "\\[\n",
        "J(\\theta) = \\frac{1}{m} \\sum_{i=1}^{m} L(\\hat{y}^{(i)}, y^{(i)})\n",
        "\\]\n",
        "\n",
        "where:\n",
        "- \\(y\\) = true label  \n",
        "- \\(\\hat{y}\\) = predicted label  \n",
        "- \\(\\theta\\) = model parameters  \n",
        "\n",
        "### Examples:\n",
        "- **Loss function (per sample):**\n",
        "  - Mean Squared Error (MSE):  \n",
        "    \\[\n",
        "    L = \\frac{1}{2}(y - \\hat{y})^2\n",
        "    \\]\n",
        "  - Binary Cross-Entropy:  \n",
        "    \\[\n",
        "    L = -\\big[y \\log(\\hat{y}) + (1-y) \\log(1-\\hat{y})\\big]\n",
        "    \\]\n",
        "\n",
        "- **Cost function (aggregated):**\n",
        "  - Average MSE across all training samples  \n",
        "  - Average Cross-Entropy across a mini-batch  \n",
        "\n",
        "### Key Point:\n",
        "- Loss = error for **one example**  \n",
        "- Cost = average/aggregate error for the **whole dataset** (plus possible regularization)  \n"
      ],
      "metadata": {
        "id": "XEqM3d5urXvx"
      }
    },
    {
      "cell_type": "markdown",
      "source": [
        "## **Question 5: What is the role of optimizers in neural networks? Compare Gradient Descent, Adam, and RMSprop.**\n",
        "\n",
        "**Answer:**\n",
        "\n",
        "Optimizers adjust the **weights and biases** of a neural network to minimize the cost function.  \n",
        "They use the gradient of the loss with respect to parameters to decide the **direction and magnitude** of updates.  \n",
        "Choice of optimizer affects convergence speed, stability, and final accuracy.\n",
        "\n",
        "### 1. Gradient Descent (GD)\n",
        "- Update rule:  \n",
        "  \\[\n",
        "  \\theta \\leftarrow \\theta - \\eta \\nabla_\\theta J(\\theta)\n",
        "  \\]\n",
        "- **Pros:** Simple and intuitive  \n",
        "- **Cons:** Slow on large datasets, may get stuck in local minima or saddle points  \n",
        "\n",
        "### 2. RMSprop\n",
        "- Maintains an exponentially decaying average of squared gradients  \n",
        "- Update rule adapts learning rate for each parameter:  \n",
        "  \\[\n",
        "  \\theta \\leftarrow \\theta - \\frac{\\eta}{\\sqrt{E[g^2] + \\epsilon}} g\n",
        "  \\]\n",
        "- **Pros:** Handles nonstationary objectives well, works well for RNNs  \n",
        "- **Cons:** Sensitive to hyperparameters  \n",
        "\n",
        "### 3. Adam (Adaptive Moment Estimation)\n",
        "- Combines Momentum (first moment) + RMSprop (second moment)  \n",
        "- Uses bias correction to stabilize updates  \n",
        "- Update rule adapts learning rate per parameter  \n",
        "- **Pros:** Fast convergence, little hyperparameter tuning needed  \n",
        "- **Cons:** Can generalize worse than SGD in some cases  \n",
        "\n",
        "### Summary:\n",
        "- **GD** → Simple, but inefficient for large datasets  \n",
        "- **RMSprop** → Good for online/recurrent tasks  \n",
        "- **Adam** → Most popular, fast, and effective for many tasks  \n",
        "- **SGD with momentum** is still preferred in some cases for best generalization  \n"
      ],
      "metadata": {
        "id": "KqTrxAX_rcdi"
      }
    },
    {
      "cell_type": "markdown",
      "source": [
        "## **Question 6: Write a Python program to implement a single-layer perceptron from scratch using NumPy to solve the logical AND gate.**"
      ],
      "metadata": {
        "id": "4WH6gHXzr9r7"
      }
    },
    {
      "cell_type": "code",
      "source": [
        "##implement a Single-Layer Perceptron (NumPy) to solve the Logical AND Gate\n",
        "\n",
        "import numpy as np\n",
        "\n",
        "# Training data for AND gate\n",
        "X = np.array([[0,0],[0,1],[1,0],[1,1]])\n",
        "y = np.array([0,0,0,1])   # AND truth table\n",
        "\n",
        "# Initialize weights and bias\n",
        "weights = np.zeros(X.shape[1])\n",
        "bias = 0\n",
        "learning_rate = 0.1\n",
        "epochs = 10\n",
        "\n",
        "# Training loop (Perceptron Learning Rule)\n",
        "for epoch in range(epochs):\n",
        "    for i in range(len(X)):\n",
        "        z = np.dot(X[i], weights) + bias\n",
        "        y_pred = 1 if z >= 0 else 0\n",
        "        error = y[i] - y_pred\n",
        "        # Update rule\n",
        "        weights += learning_rate * error * X[i]\n",
        "        bias += learning_rate * error\n",
        "\n",
        "print(\"Trained weights:\", weights)\n",
        "print(\"Trained bias:\", bias)\n",
        "\n",
        "# Predictions\n",
        "for i in range(len(X)):\n",
        "    z = np.dot(X[i], weights) + bias\n",
        "    y_pred = 1 if z >= 0 else 0\n",
        "    print(f\"Input: {X[i]}, Prediction: {y_pred}, Actual: {y[i]}\")"
      ],
      "metadata": {
        "colab": {
          "base_uri": "https://localhost:8080/"
        },
        "id": "PQ2np6_XrjjO",
        "outputId": "0b67a545-4b9f-4646-e40d-d12b255580e8"
      },
      "execution_count": 2,
      "outputs": [
        {
          "output_type": "stream",
          "name": "stdout",
          "text": [
            "Trained weights: [0.2 0.1]\n",
            "Trained bias: -0.20000000000000004\n",
            "Input: [0 0], Prediction: 0, Actual: 0\n",
            "Input: [0 1], Prediction: 0, Actual: 0\n",
            "Input: [1 0], Prediction: 0, Actual: 0\n",
            "Input: [1 1], Prediction: 1, Actual: 1\n"
          ]
        }
      ]
    },
    {
      "cell_type": "markdown",
      "source": [
        "## **Question 7: Implement and visualize Sigmoid, ReLU, and Tanh activation functions using Matplotlib.**\n"
      ],
      "metadata": {
        "id": "KZdqiBiLsLNz"
      }
    },
    {
      "cell_type": "code",
      "source": [
        "##Implement and Visualize Sigmoid, ReLU, and Tanh Activation Functions\n",
        "import numpy as np\n",
        "import matplotlib.pyplot as plt\n",
        "\n",
        "# Define activation functions\n",
        "def sigmoid(z):\n",
        "    return 1 / (1 + np.exp(-z))\n",
        "\n",
        "def tanh(z):\n",
        "    return np.tanh(z)\n",
        "\n",
        "def relu(z):\n",
        "    return np.maximum(0, z)\n",
        "\n",
        "# Input range\n",
        "z = np.linspace(-10, 10, 200)\n",
        "\n",
        "plt.figure(figsize=(10,6))\n",
        "\n",
        "plt.subplot(1,3,1)\n",
        "plt.plot(z, sigmoid(z), label=\"Sigmoid\", color=\"blue\")\n",
        "plt.title(\"Sigmoid Function\")\n",
        "plt.grid(True)\n",
        "\n",
        "plt.subplot(1,3,2)\n",
        "plt.plot(z, tanh(z), label=\"Tanh\", color=\"green\")\n",
        "plt.title(\"Tanh Function\")\n",
        "plt.grid(True)\n",
        "\n",
        "plt.subplot(1,3,3)\n",
        "plt.plot(z, relu(z), label=\"ReLU\", color=\"red\")\n",
        "plt.title(\"ReLU Function\")\n",
        "plt.grid(True)\n",
        "\n",
        "plt.tight_layout()\n",
        "plt.show()\n"
      ],
      "metadata": {
        "colab": {
          "base_uri": "https://localhost:8080/",
          "height": 607
        },
        "id": "UsZuTM2usRnT",
        "outputId": "fb285708-e93f-48ec-a7c4-63edec546837"
      },
      "execution_count": 4,
      "outputs": [
        {
          "output_type": "display_data",
          "data": {
            "text/plain": [
              "<Figure size 1000x600 with 3 Axes>"
            ],
            "image/png": "[encoded data removed]"
          },
          "metadata": {}
        }
      ]
    },
    {
      "cell_type": "markdown",
      "source": [
        "## **Question 8: : Use Keras to build and train a simple multilayer neural network on the MNIST digits dataset. Print the training accuracy.**\n",
        "\n"
      ],
      "metadata": {
        "id": "5UOaTSQYtlAT"
      }
    },
    {
      "cell_type": "code",
      "source": [
        "##Use Keras to build and train a simple multilayer neural network on the MNIST digits dataset. Print the training accuracy\n",
        "import tensorflow as tf\n",
        "from tensorflow.keras.datasets import mnist\n",
        "from tensorflow.keras.models import Sequential\n",
        "from tensorflow.keras.layers import Dense, Flatten\n",
        "from tensorflow.keras.utils import to_categorical\n",
        "\n",
        "# Load MNIST dataset\n",
        "(x_train, y_train), (x_test, y_test) = mnist.load_data()\n",
        "\n",
        "# Normalize and preprocess\n",
        "x_train, x_test = x_train / 255.0, x_test / 255.0\n",
        "y_train, y_test = to_categorical(y_train), to_categorical(y_test)\n",
        "\n",
        "# Build model\n",
        "model = Sequential([\n",
        "    Flatten(input_shape=(28,28)),\n",
        "    Dense(128, activation='relu'),\n",
        "    Dense(64, activation='relu'),\n",
        "    Dense(10, activation='softmax')\n",
        "])\n",
        "\n",
        "model.compile(optimizer='adam', loss='categorical_crossentropy', metrics=['accuracy'])\n",
        "\n",
        "# Train model\n",
        "history = model.fit(x_train, y_train, epochs=5, batch_size=128, validation_split=0.1, verbose=1)\n",
        "\n",
        "# Evaluate\n",
        "loss, acc = model.evaluate(x_test, y_test, verbose=0)\n",
        "print(f\"Test Accuracy: {acc:.4f}\")\n"
      ],
      "metadata": {
        "colab": {
          "base_uri": "https://localhost:8080/"
        },
        "id": "HmciPZ2-tpTG",
        "outputId": "9932e65e-3f9f-473d-e253-09202999b38d"
      },
      "execution_count": 5,
      "outputs": [
        {
          "output_type": "stream",
          "name": "stdout",
          "text": [
            "Downloading data from https://storage.googleapis.com/tensorflow/tf-keras-datasets/mnist.npz\n",
            "\u001b[1m11490434/11490434\u001b[0m \u001b[32m━━━━━━━━━━━━━━━━━━━━\u001b[0m\u001b[37m\u001b[0m \u001b[1m0s\u001b[0m 0us/step\n"
          ]
        },
        {
          "output_type": "stream",
          "name": "stderr",
          "text": [
            "/usr/local/lib/python3.12/dist-packages/keras/src/layers/reshaping/flatten.py:37: UserWarning: Do not pass an `input_shape`/`input_dim` argument to a layer. When using Sequential models, prefer using an `Input(shape)` object as the first layer in the model instead.\n",
            "  super().__init__(**kwargs)\n"
          ]
        },
        {
          "output_type": "stream",
          "name": "stdout",
          "text": [
            "Epoch 1/5\n",
            "\u001b[1m422/422\u001b[0m \u001b[32m━━━━━━━━━━━━━━━━━━━━\u001b[0m\u001b[37m\u001b[0m \u001b[1m4s\u001b[0m 6ms/step - accuracy: 0.8146 - loss: 0.6557 - val_accuracy: 0.9585 - val_loss: 0.1521\n",
            "Epoch 2/5\n",
            "\u001b[1m422/422\u001b[0m \u001b[32m━━━━━━━━━━━━━━━━━━━━\u001b[0m\u001b[37m\u001b[0m \u001b[1m4s\u001b[0m 5ms/step - accuracy: 0.9516 - loss: 0.1653 - val_accuracy: 0.9667 - val_loss: 0.1194\n",
            "Epoch 3/5\n",
            "\u001b[1m422/422\u001b[0m \u001b[32m━━━━━━━━━━━━━━━━━━━━\u001b[0m\u001b[37m\u001b[0m \u001b[1m2s\u001b[0m 5ms/step - accuracy: 0.9678 - loss: 0.1099 - val_accuracy: 0.9743 - val_loss: 0.0921\n",
            "Epoch 4/5\n",
            "\u001b[1m422/422\u001b[0m \u001b[32m━━━━━━━━━━━━━━━━━━━━\u001b[0m\u001b[37m\u001b[0m \u001b[1m4s\u001b[0m 7ms/step - accuracy: 0.9760 - loss: 0.0812 - val_accuracy: 0.9753 - val_loss: 0.0817\n",
            "Epoch 5/5\n",
            "\u001b[1m422/422\u001b[0m \u001b[32m━━━━━━━━━━━━━━━━━━━━\u001b[0m\u001b[37m\u001b[0m \u001b[1m2s\u001b[0m 5ms/step - accuracy: 0.9805 - loss: 0.0631 - val_accuracy: 0.9747 - val_loss: 0.0844\n",
            "Test Accuracy: 0.9702\n"
          ]
        }
      ]
    },
    {
      "cell_type": "markdown",
      "source": [
        "## **Question 9:Visualize the loss and accuracy curves for a neural network model trained on the Fashion MNIST dataset. Interpret the training behavior.**"
      ],
      "metadata": {
        "id": "t5KIUAFtt73h"
      }
    },
    {
      "cell_type": "code",
      "source": [
        "##Visualize the loss and accuracy curves for a neural network model trained on the Fashion MNIST dataset\n",
        "from tensorflow.keras.datasets import fashion_mnist\n",
        "\n",
        "# Load Fashion MNIST dataset\n",
        "(x_train, y_train), (x_test, y_test) = fashion_mnist.load_data()\n",
        "x_train, x_test = x_train / 255.0, x_test / 255.0\n",
        "y_train, y_test = to_categorical(y_train), to_categorical(y_test)\n",
        "\n",
        "# Build model\n",
        "model_fashion = Sequential([\n",
        "    Flatten(input_shape=(28,28)),\n",
        "    Dense(128, activation='relu'),\n",
        "    Dense(64, activation='relu'),\n",
        "    Dense(10, activation='softmax')\n",
        "])\n",
        "\n",
        "model_fashion.compile(optimizer='adam', loss='categorical_crossentropy', metrics=['accuracy'])\n",
        "\n",
        "# Train model\n",
        "history_fashion = model_fashion.fit(x_train, y_train, epochs=5, batch_size=128, validation_split=0.1, verbose=1)\n",
        "\n",
        "# Plot loss and accuracy\n",
        "plt.figure(figsize=(12,5))\n",
        "\n",
        "plt.subplot(1,2,1)\n",
        "plt.plot(history_fashion.history['loss'], label='Training Loss')\n",
        "plt.plot(history_fashion.history['val_loss'], label='Validation Loss')\n",
        "plt.title('Loss Curve')\n",
        "plt.xlabel('Epochs')\n",
        "plt.ylabel('Loss')\n",
        "plt.legend()\n",
        "\n",
        "plt.subplot(1,2,2)\n",
        "plt.plot(history_fashion.history['accuracy'], label='Training Accuracy')\n",
        "plt.plot(history_fashion.history['val_accuracy'], label='Validation Accuracy')\n",
        "plt.title('Accuracy Curve')\n",
        "plt.xlabel('Epochs')\n",
        "plt.ylabel('Accuracy')\n",
        "plt.legend()\n",
        "\n",
        "plt.show()\n"
      ],
      "metadata": {
        "colab": {
          "base_uri": "https://localhost:8080/",
          "height": 799
        },
        "id": "Qe1dQ02_t7Wn",
        "outputId": "7aed5d72-d50b-489f-8218-b16de40f1bbe"
      },
      "execution_count": 6,
      "outputs": [
        {
          "output_type": "stream",
          "name": "stdout",
          "text": [
            "Downloading data from https://storage.googleapis.com/tensorflow/tf-keras-datasets/train-labels-idx1-ubyte.gz\n",
            "\u001b[1m29515/29515\u001b[0m \u001b[32m━━━━━━━━━━━━━━━━━━━━\u001b[0m\u001b[37m\u001b[0m \u001b[1m0s\u001b[0m 0us/step\n",
            "Downloading data from https://storage.googleapis.com/tensorflow/tf-keras-datasets/train-images-idx3-ubyte.gz\n",
            "\u001b[1m26421880/26421880\u001b[0m \u001b[32m━━━━━━━━━━━━━━━━━━━━\u001b[0m\u001b[37m\u001b[0m \u001b[1m0s\u001b[0m 0us/step\n",
            "Downloading data from https://storage.googleapis.com/tensorflow/tf-keras-datasets/t10k-labels-idx1-ubyte.gz\n",
            "\u001b[1m5148/5148\u001b[0m \u001b[32m━━━━━━━━━━━━━━━━━━━━\u001b[0m\u001b[37m\u001b[0m \u001b[1m0s\u001b[0m 0us/step\n",
            "Downloading data from https://storage.googleapis.com/tensorflow/tf-keras-datasets/t10k-images-idx3-ubyte.gz\n",
            "\u001b[1m4422102/4422102\u001b[0m \u001b[32m━━━━━━━━━━━━━━━━━━━━\u001b[0m\u001b[37m\u001b[0m \u001b[1m0s\u001b[0m 0us/step\n",
            "Epoch 1/5\n",
            "\u001b[1m422/422\u001b[0m \u001b[32m━━━━━━━━━━━━━━━━━━━━\u001b[0m\u001b[37m\u001b[0m \u001b[1m4s\u001b[0m 6ms/step - accuracy: 0.7314 - loss: 0.7813 - val_accuracy: 0.8447 - val_loss: 0.4305\n",
            "Epoch 2/5\n",
            "\u001b[1m422/422\u001b[0m \u001b[32m━━━━━━━━━━━━━━━━━━━━\u001b[0m\u001b[37m\u001b[0m \u001b[1m5s\u001b[0m 5ms/step - accuracy: 0.8611 - loss: 0.4011 - val_accuracy: 0.8633 - val_loss: 0.3822\n",
            "Epoch 3/5\n",
            "\u001b[1m422/422\u001b[0m \u001b[32m━━━━━━━━━━━━━━━━━━━━\u001b[0m\u001b[37m\u001b[0m \u001b[1m2s\u001b[0m 4ms/step - accuracy: 0.8680 - loss: 0.3668 - val_accuracy: 0.8620 - val_loss: 0.3712\n",
            "Epoch 4/5\n",
            "\u001b[1m422/422\u001b[0m \u001b[32m━━━━━━━━━━━━━━━━━━━━\u001b[0m\u001b[37m\u001b[0m \u001b[1m3s\u001b[0m 5ms/step - accuracy: 0.8787 - loss: 0.3379 - val_accuracy: 0.8713 - val_loss: 0.3543\n",
            "Epoch 5/5\n",
            "\u001b[1m422/422\u001b[0m \u001b[32m━━━━━━━━━━━━━━━━━━━━\u001b[0m\u001b[37m\u001b[0m \u001b[1m3s\u001b[0m 6ms/step - accuracy: 0.8904 - loss: 0.3053 - val_accuracy: 0.8788 - val_loss: 0.3349\n"
          ]
        },
        {
          "output_type": "display_data",
          "data": {
            "text/plain": [
              "<Figure size 1200x500 with 2 Axes>"
            ],
            "image/png": "[encoded data removed]"
          },
          "metadata": {}
        }
      ]
    },
    {
      "cell_type": "markdown",
      "source": [
        "##**Question 10: You are working on a project for a bank that wants to automatically detectfraudulent transactions. The dataset is large, imbalanced, and contains structuredfeatures like transaction amount, merchant ID, and customer location. The goal is toclassify each transaction as fraudulent or legitimate.**\n",
        "##**Explain your real-time data science workflow:**\n",
        "##**● How would you design a deep learning model (perceptron or multilayer NN)?**\n",
        "##**● Which activation function and loss function would you use, and why?**\n",
        "##**● How would you train and evaluate the model, considering class imbalance?**\n",
        "##**● Which optimizer would be suitable, and how would you prevent overfitting?**"
      ],
      "metadata": {
        "id": "2IumyTNeuPWs"
      }
    },
    {
      "cell_type": "markdown",
      "source": [
        "## Fraud Detection Workflow for a Bank\n",
        "\n",
        "**Answer:**\n",
        "\n",
        "We need to build a system to detect fraudulent transactions in real time.  \n",
        "The dataset is **large, imbalanced**, and contains structured features such as transaction amount, merchant ID, and customer location.  \n",
        "\n",
        "### Workflow:\n",
        "\n",
        "1. **Model Design**\n",
        "   - A simple perceptron is too limited, so we use a **multilayer neural network (MLP)**.  \n",
        "   - Inputs: numeric features (amount, time), categorical features (merchant_id, location).  \n",
        "   - Use embeddings for high-cardinality categorical features.  \n",
        "   - Dense hidden layers with ReLU + Batch Normalization + Dropout.  \n",
        "   - Final output: single neuron with **sigmoid activation**.\n",
        "\n",
        "2. **Activation & Loss Functions**\n",
        "   - **Output Activation:** Sigmoid (gives fraud probability).  \n",
        "   - **Loss Function:** Binary Cross-Entropy (standard).  \n",
        "   - Optionally use **Focal Loss** to handle severe class imbalance.\n",
        "\n",
        "3. **Training & Evaluation**\n",
        "   - Use **class weights** or **oversampling** to address imbalance.  \n",
        "   - Evaluate with **Precision, Recall, F1-score, ROC-AUC, and PR-AUC** (not just accuracy).  \n",
        "   - Validation split should be **time-based** to mimic production.\n",
        "\n",
        "4. **Optimizer & Overfitting Prevention**\n",
        "   - Optimizer: **Adam** (fast convergence) or **SGD with momentum** for better generalization.  \n",
        "   - Prevent overfitting with **Dropout, L2 regularization, EarlyStopping, and learning rate scheduling**.  \n",
        "\n",
        "---\n"
      ],
      "metadata": {
        "id": "3j423rg4vJ8h"
      }
    },
    {
      "cell_type": "code",
      "source": [
        "# ==============================\n",
        "# Fraud Detection Example (Colab-ready)\n",
        "# ==============================\n",
        "\n",
        "import numpy as np\n",
        "import tensorflow as tf\n",
        "from tensorflow.keras import layers, Model, Input\n",
        "from tensorflow.keras.callbacks import EarlyStopping, ReduceLROnPlateau\n",
        "from sklearn.model_selection import train_test_split\n",
        "from sklearn.metrics import (precision_score, recall_score, f1_score,\n",
        "                             roc_auc_score, average_precision_score,\n",
        "                             confusion_matrix)\n",
        "from sklearn.utils.class_weight import compute_class_weight\n",
        "\n",
        "# ---------------------------\n",
        "# 1. Simulated Dataset\n",
        "# ---------------------------\n",
        "np.random.seed(42)\n",
        "n_samples = 20000\n",
        "\n",
        "# Numeric features (transaction amount + others)\n",
        "num_features = np.random.randn(n_samples, 3)\n",
        "amount = np.abs(np.random.exponential(scale=50, size=(n_samples,1)))\n",
        "num_features = np.hstack([num_features, amount])\n",
        "\n",
        "# Categorical features\n",
        "n_merchants = 500\n",
        "merchant_ids = np.random.randint(0, n_merchants, size=(n_samples, 1))\n",
        "\n",
        "n_locations = 50\n",
        "locations = np.random.randint(0, n_locations, size=(n_samples, 1))\n",
        "\n",
        "# Labels: 2% fraud\n",
        "y = np.random.choice([0,1], size=(n_samples,), p=[0.98, 0.02])\n",
        "\n",
        "# Train/Val/Test Split\n",
        "X_idx = np.arange(n_samples)\n",
        "X_train_idx, X_test_idx = train_test_split(X_idx, test_size=0.2, stratify=y, random_state=1)\n",
        "X_train_idx, X_val_idx = train_test_split(X_train_idx, test_size=0.2, stratify=y[X_train_idx], random_state=2)\n",
        "\n",
        "def slice_X(idx):\n",
        "    return {\n",
        "        \"num\": num_features[idx].astype(np.float32),\n",
        "        \"merchant\": merchant_ids[idx].astype(np.int32),\n",
        "        \"location\": locations[idx].astype(np.int32)\n",
        "    }\n",
        "\n",
        "X_train, X_val, X_test = slice_X(X_train_idx), slice_X(X_val_idx), slice_X(X_test_idx)\n",
        "y_train, y_val, y_test = y[X_train_idx], y[X_val_idx], y[X_test_idx]\n",
        "\n",
        "# ---------------------------\n",
        "# 2. Model Design (Embeddings + MLP)\n",
        "# ---------------------------\n",
        "num_in = Input(shape=(X_train[\"num\"].shape[1],), name=\"num\")\n",
        "\n",
        "merchant_in = Input(shape=(1,), dtype='int32', name=\"merchant\")\n",
        "merchant_emb = layers.Embedding(input_dim=n_merchants, output_dim=32)(merchant_in)\n",
        "merchant_emb = layers.Flatten()(merchant_emb)\n",
        "\n",
        "loc_in = Input(shape=(1,), dtype='int32', name=\"location\")\n",
        "loc_emb = layers.Embedding(input_dim=n_locations, output_dim=8)(loc_in)\n",
        "loc_emb = layers.Flatten()(loc_emb)\n",
        "\n",
        "x = layers.Concatenate()([num_in, merchant_emb, loc_emb])\n",
        "x = layers.BatchNormalization()(x)\n",
        "x = layers.Dense(128, activation=\"relu\", kernel_regularizer=tf.keras.regularizers.l2(1e-4))(x)\n",
        "x = layers.Dropout(0.3)(x)\n",
        "x = layers.Dense(64, activation=\"relu\", kernel_regularizer=tf.keras.regularizers.l2(1e-4))(x)\n",
        "x = layers.Dropout(0.2)(x)\n",
        "x = layers.Dense(32, activation=\"relu\")(x)\n",
        "out = layers.Dense(1, activation=\"sigmoid\")(x)\n",
        "\n",
        "model = Model(inputs=[num_in, merchant_in, loc_in], outputs=out)\n",
        "model.summary()\n",
        "\n",
        "# ---------------------------\n",
        "# 3. Class Weights for Imbalance\n",
        "# ---------------------------\n",
        "cw = compute_class_weight(class_weight=\"balanced\", classes=np.unique(y_train), y=y_train)\n",
        "class_weight = {int(k): v for k, v in enumerate(cw)}\n",
        "print(\"Class weights:\", class_weight)\n",
        "\n",
        "# ---------------------------\n",
        "# 4. Compile & Train\n",
        "# ---------------------------\n",
        "model.compile(optimizer=\"adam\", loss=\"binary_crossentropy\", metrics=[\"AUC\"])\n",
        "\n",
        "callbacks = [\n",
        "    EarlyStopping(monitor=\"val_auc\", mode=\"max\", patience=5, restore_best_weights=True, verbose=1),\n",
        "    ReduceLROnPlateau(monitor=\"val_auc\", mode=\"max\", factor=0.5, patience=3, verbose=1)\n",
        "]\n",
        "\n",
        "history = model.fit(\n",
        "    x=X_train,\n",
        "    y=y_train,\n",
        "    validation_data=(X_val, y_val),\n",
        "    epochs=30,\n",
        "    batch_size=512,\n",
        "    class_weight=class_weight,\n",
        "    callbacks=callbacks,\n",
        "    verbose=2\n",
        ")\n",
        "\n",
        "# ---------------------------\n",
        "# 5. Evaluation\n",
        "# ---------------------------\n",
        "y_pred_prob = model.predict(X_test).ravel()\n",
        "y_pred = (y_pred_prob >= 0.5).astype(int)\n",
        "\n",
        "print(\"ROC AUC:\", roc_auc_score(y_test, y_pred_prob))\n",
        "print(\"PR AUC:\", average_precision_score(y_test, y_pred_prob))\n",
        "print(\"Precision:\", precision_score(y_test, y_pred, zero_division=0))\n",
        "print(\"Recall:\", recall_score(y_test, y_pred, zero_division=0))\n",
        "print(\"F1 Score:\", f1_score(y_test, y_pred, zero_division=0))\n",
        "print(\"Confusion Matrix:\\n\", confusion_matrix(y_test, y_pred))\n"
      ],
      "metadata": {
        "colab": {
          "base_uri": "https://localhost:8080/",
          "height": 1000
        },
        "id": "bAahTlGIuhrL",
        "outputId": "f7fa30fc-a439-4eb0-9cd5-5bcab8e37eca"
      },
      "execution_count": 7,
      "outputs": [
        {
          "output_type": "display_data",
          "data": {
            "text/plain": [
              "\u001b[1mModel: \"functional_2\"\u001b[0m\n"
            ],
            "text/html": [
              "<pre style=\"white-space:pre;overflow-x:auto;line-height:normal;font-family:Menlo,'DejaVu Sans Mono',consolas,'Courier New',monospace\"><span style=\"font-weight: bold\">Model: \"functional_2\"</span>\n",
              "</pre>\n"
            ]
          },
          "metadata": {}
        },
        {
          "output_type": "display_data",
          "data": {
            "text/plain": [
              "┏━━━━━━━━━━━━━━━━━━━━━┳━━━━━━━━━━━━━━━━━━━┳━━━━━━━━━━━━┳━━━━━━━━━━━━━━━━━━━┓\n",
              "┃\u001b[1m \u001b[0m\u001b[1mLayer (type)       \u001b[0m\u001b[1m \u001b[0m┃\u001b[1m \u001b[0m\u001b[1mOutput Shape     \u001b[0m\u001b[1m \u001b[0m┃\u001b[1m \u001b[0m\u001b[1m   Param #\u001b[0m\u001b[1m \u001b[0m┃\u001b[1m \u001b[0m\u001b[1mConnected to     \u001b[0m\u001b[1m \u001b[0m┃\n",
              "┡━━━━━━━━━━━━━━━━━━━━━╇━━━━━━━━━━━━━━━━━━━╇━━━━━━━━━━━━╇━━━━━━━━━━━━━━━━━━━┩\n",
              "│ merchant            │ (\u001b[38;5;45mNone\u001b[0m, \u001b[38;5;34m1\u001b[0m)         │          \u001b[38;5;34m0\u001b[0m │ -                 │\n",
              "│ (\u001b[38;5;33mInputLayer\u001b[0m)        │                   │            │                   │\n",
              "├─────────────────────┼───────────────────┼────────────┼───────────────────┤\n",
              "│ location            │ (\u001b[38;5;45mNone\u001b[0m, \u001b[38;5;34m1\u001b[0m)         │          \u001b[38;5;34m0\u001b[0m │ -                 │\n",
              "│ (\u001b[38;5;33mInputLayer\u001b[0m)        │                   │            │                   │\n",
              "├─────────────────────┼───────────────────┼────────────┼───────────────────┤\n",
              "│ embedding           │ (\u001b[38;5;45mNone\u001b[0m, \u001b[38;5;34m1\u001b[0m, \u001b[38;5;34m32\u001b[0m)     │     \u001b[38;5;34m16,000\u001b[0m │ merchant[\u001b[38;5;34m0\u001b[0m][\u001b[38;5;34m0\u001b[0m]    │\n",
              "│ (\u001b[38;5;33mEmbedding\u001b[0m)         │                   │            │                   │\n",
              "├─────────────────────┼───────────────────┼────────────┼───────────────────┤\n",
              "│ embedding_1         │ (\u001b[38;5;45mNone\u001b[0m, \u001b[38;5;34m1\u001b[0m, \u001b[38;5;34m8\u001b[0m)      │        \u001b[38;5;34m400\u001b[0m │ location[\u001b[38;5;34m0\u001b[0m][\u001b[38;5;34m0\u001b[0m]    │\n",
              "│ (\u001b[38;5;33mEmbedding\u001b[0m)         │                   │            │                   │\n",
              "├─────────────────────┼───────────────────┼────────────┼───────────────────┤\n",
              "│ num (\u001b[38;5;33mInputLayer\u001b[0m)    │ (\u001b[38;5;45mNone\u001b[0m, \u001b[38;5;34m4\u001b[0m)         │          \u001b[38;5;34m0\u001b[0m │ -                 │\n",
              "├─────────────────────┼───────────────────┼────────────┼───────────────────┤\n",
              "│ flatten_2 (\u001b[38;5;33mFlatten\u001b[0m) │ (\u001b[38;5;45mNone\u001b[0m, \u001b[38;5;34m32\u001b[0m)        │          \u001b[38;5;34m0\u001b[0m │ embedding[\u001b[38;5;34m0\u001b[0m][\u001b[38;5;34m0\u001b[0m]   │\n",
              "├─────────────────────┼───────────────────┼────────────┼───────────────────┤\n",
              "│ flatten_3 (\u001b[38;5;33mFlatten\u001b[0m) │ (\u001b[38;5;45mNone\u001b[0m, \u001b[38;5;34m8\u001b[0m)         │          \u001b[38;5;34m0\u001b[0m │ embedding_1[\u001b[38;5;34m0\u001b[0m][\u001b[38;5;34m0\u001b[0m] │\n",
              "├─────────────────────┼───────────────────┼────────────┼───────────────────┤\n",
              "│ concatenate         │ (\u001b[38;5;45mNone\u001b[0m, \u001b[38;5;34m44\u001b[0m)        │          \u001b[38;5;34m0\u001b[0m │ num[\u001b[38;5;34m0\u001b[0m][\u001b[38;5;34m0\u001b[0m],        │\n",
              "│ (\u001b[38;5;33mConcatenate\u001b[0m)       │                   │            │ flatten_2[\u001b[38;5;34m0\u001b[0m][\u001b[38;5;34m0\u001b[0m],  │\n",
              "│                     │                   │            │ flatten_3[\u001b[38;5;34m0\u001b[0m][\u001b[38;5;34m0\u001b[0m]   │\n",
              "├─────────────────────┼───────────────────┼────────────┼───────────────────┤\n",
              "│ batch_normalization │ (\u001b[38;5;45mNone\u001b[0m, \u001b[38;5;34m44\u001b[0m)        │        \u001b[38;5;34m176\u001b[0m │ concatenate[\u001b[38;5;34m0\u001b[0m][\u001b[38;5;34m0\u001b[0m] │\n",
              "│ (\u001b[38;5;33mBatchNormalizatio…\u001b[0m │                   │            │                   │\n",
              "├─────────────────────┼───────────────────┼────────────┼───────────────────┤\n",
              "│ dense_6 (\u001b[38;5;33mDense\u001b[0m)     │ (\u001b[38;5;45mNone\u001b[0m, \u001b[38;5;34m128\u001b[0m)       │      \u001b[38;5;34m5,760\u001b[0m │ batch_normalizat… │\n",
              "├─────────────────────┼───────────────────┼────────────┼───────────────────┤\n",
              "│ dropout (\u001b[38;5;33mDropout\u001b[0m)   │ (\u001b[38;5;45mNone\u001b[0m, \u001b[38;5;34m128\u001b[0m)       │          \u001b[38;5;34m0\u001b[0m │ dense_6[\u001b[38;5;34m0\u001b[0m][\u001b[38;5;34m0\u001b[0m]     │\n",
              "├─────────────────────┼───────────────────┼────────────┼───────────────────┤\n",
              "│ dense_7 (\u001b[38;5;33mDense\u001b[0m)     │ (\u001b[38;5;45mNone\u001b[0m, \u001b[38;5;34m64\u001b[0m)        │      \u001b[38;5;34m8,256\u001b[0m │ dropout[\u001b[38;5;34m0\u001b[0m][\u001b[38;5;34m0\u001b[0m]     │\n",
              "├─────────────────────┼───────────────────┼────────────┼───────────────────┤\n",
              "│ dropout_1 (\u001b[38;5;33mDropout\u001b[0m) │ (\u001b[38;5;45mNone\u001b[0m, \u001b[38;5;34m64\u001b[0m)        │          \u001b[38;5;34m0\u001b[0m │ dense_7[\u001b[38;5;34m0\u001b[0m][\u001b[38;5;34m0\u001b[0m]     │\n",
              "├─────────────────────┼───────────────────┼────────────┼───────────────────┤\n",
              "│ dense_8 (\u001b[38;5;33mDense\u001b[0m)     │ (\u001b[38;5;45mNone\u001b[0m, \u001b[38;5;34m32\u001b[0m)        │      \u001b[38;5;34m2,080\u001b[0m │ dropout_1[\u001b[38;5;34m0\u001b[0m][\u001b[38;5;34m0\u001b[0m]   │\n",
              "├─────────────────────┼───────────────────┼────────────┼───────────────────┤\n",
              "│ dense_9 (\u001b[38;5;33mDense\u001b[0m)     │ (\u001b[38;5;45mNone\u001b[0m, \u001b[38;5;34m1\u001b[0m)         │         \u001b[38;5;34m33\u001b[0m │ dense_8[\u001b[38;5;34m0\u001b[0m][\u001b[38;5;34m0\u001b[0m]     │\n",
              "└─────────────────────┴───────────────────┴────────────┴───────────────────┘\n"
            ],
            "text/html": [
              "<pre style=\"white-space:pre;overflow-x:auto;line-height:normal;font-family:Menlo,'DejaVu Sans Mono',consolas,'Courier New',monospace\">┏━━━━━━━━━━━━━━━━━━━━━┳━━━━━━━━━━━━━━━━━━━┳━━━━━━━━━━━━┳━━━━━━━━━━━━━━━━━━━┓\n",
              "┃<span style=\"font-weight: bold\"> Layer (type)        </span>┃<span style=\"font-weight: bold\"> Output Shape      </span>┃<span style=\"font-weight: bold\">    Param # </span>┃<span style=\"font-weight: bold\"> Connected to      </span>┃\n",
              "┡━━━━━━━━━━━━━━━━━━━━━╇━━━━━━━━━━━━━━━━━━━╇━━━━━━━━━━━━╇━━━━━━━━━━━━━━━━━━━┩\n",
              "│ merchant            │ (<span style=\"color: #00d7ff; text-decoration-color: #00d7ff\">None</span>, <span style=\"color: #00af00; text-decoration-color: #00af00\">1</span>)         │          <span style=\"color: #00af00; text-decoration-color: #00af00\">0</span> │ -                 │\n",
              "│ (<span style=\"color: #0087ff; text-decoration-color: #0087ff\">InputLayer</span>)        │                   │            │                   │\n",
              "├─────────────────────┼───────────────────┼────────────┼───────────────────┤\n",
              "│ location            │ (<span style=\"color: #00d7ff; text-decoration-color: #00d7ff\">None</span>, <span style=\"color: #00af00; text-decoration-color: #00af00\">1</span>)         │          <span style=\"color: #00af00; text-decoration-color: #00af00\">0</span> │ -                 │\n",
              "│ (<span style=\"color: #0087ff; text-decoration-color: #0087ff\">InputLayer</span>)        │                   │            │                   │\n",
              "├─────────────────────┼───────────────────┼────────────┼───────────────────┤\n",
              "│ embedding           │ (<span style=\"color: #00d7ff; text-decoration-color: #00d7ff\">None</span>, <span style=\"color: #00af00; text-decoration-color: #00af00\">1</span>, <span style=\"color: #00af00; text-decoration-color: #00af00\">32</span>)     │     <span style=\"color: #00af00; text-decoration-color: #00af00\">16,000</span> │ merchant[<span style=\"color: #00af00; text-decoration-color: #00af00\">0</span>][<span style=\"color: #00af00; text-decoration-color: #00af00\">0</span>]    │\n",
              "│ (<span style=\"color: #0087ff; text-decoration-color: #0087ff\">Embedding</span>)         │                   │            │                   │\n",
              "├─────────────────────┼───────────────────┼────────────┼───────────────────┤\n",
              "│ embedding_1         │ (<span style=\"color: #00d7ff; text-decoration-color: #00d7ff\">None</span>, <span style=\"color: #00af00; text-decoration-color: #00af00\">1</span>, <span style=\"color: #00af00; text-decoration-color: #00af00\">8</span>)      │        <span style=\"color: #00af00; text-decoration-color: #00af00\">400</span> │ location[<span style=\"color: #00af00; text-decoration-color: #00af00\">0</span>][<span style=\"color: #00af00; text-decoration-color: #00af00\">0</span>]    │\n",
              "│ (<span style=\"color: #0087ff; text-decoration-color: #0087ff\">Embedding</span>)         │                   │            │                   │\n",
              "├─────────────────────┼───────────────────┼────────────┼───────────────────┤\n",
              "│ num (<span style=\"color: #0087ff; text-decoration-color: #0087ff\">InputLayer</span>)    │ (<span style=\"color: #00d7ff; text-decoration-color: #00d7ff\">None</span>, <span style=\"color: #00af00; text-decoration-color: #00af00\">4</span>)         │          <span style=\"color: #00af00; text-decoration-color: #00af00\">0</span> │ -                 │\n",
              "├─────────────────────┼───────────────────┼────────────┼───────────────────┤\n",
              "│ flatten_2 (<span style=\"color: #0087ff; text-decoration-color: #0087ff\">Flatten</span>) │ (<span style=\"color: #00d7ff; text-decoration-color: #00d7ff\">None</span>, <span style=\"color: #00af00; text-decoration-color: #00af00\">32</span>)        │          <span style=\"color: #00af00; text-decoration-color: #00af00\">0</span> │ embedding[<span style=\"color: #00af00; text-decoration-color: #00af00\">0</span>][<span style=\"color: #00af00; text-decoration-color: #00af00\">0</span>]   │\n",
              "├─────────────────────┼───────────────────┼────────────┼───────────────────┤\n",
              "│ flatten_3 (<span style=\"color: #0087ff; text-decoration-color: #0087ff\">Flatten</span>) │ (<span style=\"color: #00d7ff; text-decoration-color: #00d7ff\">None</span>, <span style=\"color: #00af00; text-decoration-color: #00af00\">8</span>)         │          <span style=\"color: #00af00; text-decoration-color: #00af00\">0</span> │ embedding_1[<span style=\"color: #00af00; text-decoration-color: #00af00\">0</span>][<span style=\"color: #00af00; text-decoration-color: #00af00\">0</span>] │\n",
              "├─────────────────────┼───────────────────┼────────────┼───────────────────┤\n",
              "│ concatenate         │ (<span style=\"color: #00d7ff; text-decoration-color: #00d7ff\">None</span>, <span style=\"color: #00af00; text-decoration-color: #00af00\">44</span>)        │          <span style=\"color: #00af00; text-decoration-color: #00af00\">0</span> │ num[<span style=\"color: #00af00; text-decoration-color: #00af00\">0</span>][<span style=\"color: #00af00; text-decoration-color: #00af00\">0</span>],        │\n",
              "│ (<span style=\"color: #0087ff; text-decoration-color: #0087ff\">Concatenate</span>)       │                   │            │ flatten_2[<span style=\"color: #00af00; text-decoration-color: #00af00\">0</span>][<span style=\"color: #00af00; text-decoration-color: #00af00\">0</span>],  │\n",
              "│                     │                   │            │ flatten_3[<span style=\"color: #00af00; text-decoration-color: #00af00\">0</span>][<span style=\"color: #00af00; text-decoration-color: #00af00\">0</span>]   │\n",
              "├─────────────────────┼───────────────────┼────────────┼───────────────────┤\n",
              "│ batch_normalization │ (<span style=\"color: #00d7ff; text-decoration-color: #00d7ff\">None</span>, <span style=\"color: #00af00; text-decoration-color: #00af00\">44</span>)        │        <span style=\"color: #00af00; text-decoration-color: #00af00\">176</span> │ concatenate[<span style=\"color: #00af00; text-decoration-color: #00af00\">0</span>][<span style=\"color: #00af00; text-decoration-color: #00af00\">0</span>] │\n",
              "│ (<span style=\"color: #0087ff; text-decoration-color: #0087ff\">BatchNormalizatio…</span> │                   │            │                   │\n",
              "├─────────────────────┼───────────────────┼────────────┼───────────────────┤\n",
              "│ dense_6 (<span style=\"color: #0087ff; text-decoration-color: #0087ff\">Dense</span>)     │ (<span style=\"color: #00d7ff; text-decoration-color: #00d7ff\">None</span>, <span style=\"color: #00af00; text-decoration-color: #00af00\">128</span>)       │      <span style=\"color: #00af00; text-decoration-color: #00af00\">5,760</span> │ batch_normalizat… │\n",
              "├─────────────────────┼───────────────────┼────────────┼───────────────────┤\n",
              "│ dropout (<span style=\"color: #0087ff; text-decoration-color: #0087ff\">Dropout</span>)   │ (<span style=\"color: #00d7ff; text-decoration-color: #00d7ff\">None</span>, <span style=\"color: #00af00; text-decoration-color: #00af00\">128</span>)       │          <span style=\"color: #00af00; text-decoration-color: #00af00\">0</span> │ dense_6[<span style=\"color: #00af00; text-decoration-color: #00af00\">0</span>][<span style=\"color: #00af00; text-decoration-color: #00af00\">0</span>]     │\n",
              "├─────────────────────┼───────────────────┼────────────┼───────────────────┤\n",
              "│ dense_7 (<span style=\"color: #0087ff; text-decoration-color: #0087ff\">Dense</span>)     │ (<span style=\"color: #00d7ff; text-decoration-color: #00d7ff\">None</span>, <span style=\"color: #00af00; text-decoration-color: #00af00\">64</span>)        │      <span style=\"color: #00af00; text-decoration-color: #00af00\">8,256</span> │ dropout[<span style=\"color: #00af00; text-decoration-color: #00af00\">0</span>][<span style=\"color: #00af00; text-decoration-color: #00af00\">0</span>]     │\n",
              "├─────────────────────┼───────────────────┼────────────┼───────────────────┤\n",
              "│ dropout_1 (<span style=\"color: #0087ff; text-decoration-color: #0087ff\">Dropout</span>) │ (<span style=\"color: #00d7ff; text-decoration-color: #00d7ff\">None</span>, <span style=\"color: #00af00; text-decoration-color: #00af00\">64</span>)        │          <span style=\"color: #00af00; text-decoration-color: #00af00\">0</span> │ dense_7[<span style=\"color: #00af00; text-decoration-color: #00af00\">0</span>][<span style=\"color: #00af00; text-decoration-color: #00af00\">0</span>]     │\n",
              "├─────────────────────┼───────────────────┼────────────┼───────────────────┤\n",
              "│ dense_8 (<span style=\"color: #0087ff; text-decoration-color: #0087ff\">Dense</span>)     │ (<span style=\"color: #00d7ff; text-decoration-color: #00d7ff\">None</span>, <span style=\"color: #00af00; text-decoration-color: #00af00\">32</span>)        │      <span style=\"color: #00af00; text-decoration-color: #00af00\">2,080</span> │ dropout_1[<span style=\"color: #00af00; text-decoration-color: #00af00\">0</span>][<span style=\"color: #00af00; text-decoration-color: #00af00\">0</span>]   │\n",
              "├─────────────────────┼───────────────────┼────────────┼───────────────────┤\n",
              "│ dense_9 (<span style=\"color: #0087ff; text-decoration-color: #0087ff\">Dense</span>)     │ (<span style=\"color: #00d7ff; text-decoration-color: #00d7ff\">None</span>, <span style=\"color: #00af00; text-decoration-color: #00af00\">1</span>)         │         <span style=\"color: #00af00; text-decoration-color: #00af00\">33</span> │ dense_8[<span style=\"color: #00af00; text-decoration-color: #00af00\">0</span>][<span style=\"color: #00af00; text-decoration-color: #00af00\">0</span>]     │\n",
              "└─────────────────────┴───────────────────┴────────────┴───────────────────┘\n",
              "</pre>\n"
            ]
          },
          "metadata": {}
        },
        {
          "output_type": "display_data",
          "data": {
            "text/plain": [
              "\u001b[1m Total params: \u001b[0m\u001b[38;5;34m32,705\u001b[0m (127.75 KB)\n"
            ],
            "text/html": [
              "<pre style=\"white-space:pre;overflow-x:auto;line-height:normal;font-family:Menlo,'DejaVu Sans Mono',consolas,'Courier New',monospace\"><span style=\"font-weight: bold\"> Total params: </span><span style=\"color: #00af00; text-decoration-color: #00af00\">32,705</span> (127.75 KB)\n",
              "</pre>\n"
            ]
          },
          "metadata": {}
        },
        {
          "output_type": "display_data",
          "data": {
            "text/plain": [
              "\u001b[1m Trainable params: \u001b[0m\u001b[38;5;34m32,617\u001b[0m (127.41 KB)\n"
            ],
            "text/html": [
              "<pre style=\"white-space:pre;overflow-x:auto;line-height:normal;font-family:Menlo,'DejaVu Sans Mono',consolas,'Courier New',monospace\"><span style=\"font-weight: bold\"> Trainable params: </span><span style=\"color: #00af00; text-decoration-color: #00af00\">32,617</span> (127.41 KB)\n",
              "</pre>\n"
            ]
          },
          "metadata": {}
        },
        {
          "output_type": "display_data",
          "data": {
            "text/plain": [
              "\u001b[1m Non-trainable params: \u001b[0m\u001b[38;5;34m88\u001b[0m (352.00 B)\n"
            ],
            "text/html": [
              "<pre style=\"white-space:pre;overflow-x:auto;line-height:normal;font-family:Menlo,'DejaVu Sans Mono',consolas,'Courier New',monospace\"><span style=\"font-weight: bold\"> Non-trainable params: </span><span style=\"color: #00af00; text-decoration-color: #00af00\">88</span> (352.00 B)\n",
              "</pre>\n"
            ]
          },
          "metadata": {}
        },
        {
          "output_type": "stream",
          "name": "stdout",
          "text": [
            "Class weights: {0: np.float64(0.5105296745373324), 1: np.float64(24.242424242424242)}\n",
            "Epoch 1/30\n",
            "25/25 - 3s - 130ms/step - AUC: 0.5118 - loss: 0.7142 - val_AUC: 0.4714 - val_loss: 0.7573 - learning_rate: 1.0000e-03\n",
            "Epoch 2/30\n"
          ]
        },
        {
          "output_type": "stream",
          "name": "stderr",
          "text": [
            "/usr/local/lib/python3.12/dist-packages/keras/src/callbacks/early_stopping.py:153: UserWarning: Early stopping conditioned on metric `val_auc` which is not available. Available metrics are: AUC,loss,val_AUC,val_loss\n",
            "  current = self.get_monitor_value(logs)\n",
            "/usr/local/lib/python3.12/dist-packages/keras/src/callbacks/callback_list.py:145: UserWarning: Learning rate reduction is conditioned on metric `val_auc` which is not available. Available metrics are: AUC,loss,val_AUC,val_loss,learning_rate.\n",
            "  callback.on_epoch_end(epoch, logs)\n"
          ]
        },
        {
          "output_type": "stream",
          "name": "stdout",
          "text": [
            "25/25 - 0s - 9ms/step - AUC: 0.6790 - loss: 0.6704 - val_AUC: 0.4289 - val_loss: 0.7150 - learning_rate: 1.0000e-03\n",
            "Epoch 3/30\n",
            "25/25 - 0s - 15ms/step - AUC: 0.8117 - loss: 0.5754 - val_AUC: 0.4178 - val_loss: 0.6537 - learning_rate: 1.0000e-03\n",
            "Epoch 4/30\n",
            "25/25 - 1s - 28ms/step - AUC: 0.8419 - loss: 0.4704 - val_AUC: 0.4099 - val_loss: 0.4810 - learning_rate: 1.0000e-03\n",
            "Epoch 5/30\n",
            "25/25 - 1s - 28ms/step - AUC: 0.8563 - loss: 0.4249 - val_AUC: 0.4167 - val_loss: 0.4234 - learning_rate: 1.0000e-03\n",
            "Epoch 6/30\n",
            "25/25 - 0s - 16ms/step - AUC: 0.8791 - loss: 0.3946 - val_AUC: 0.4136 - val_loss: 0.3383 - learning_rate: 1.0000e-03\n",
            "Epoch 7/30\n",
            "25/25 - 0s - 12ms/step - AUC: 0.8782 - loss: 0.3862 - val_AUC: 0.4161 - val_loss: 0.2767 - learning_rate: 1.0000e-03\n",
            "Epoch 8/30\n",
            "25/25 - 0s - 11ms/step - AUC: 0.8945 - loss: 0.3620 - val_AUC: 0.4244 - val_loss: 0.2605 - learning_rate: 1.0000e-03\n",
            "Epoch 9/30\n",
            "25/25 - 0s - 13ms/step - AUC: 0.9103 - loss: 0.3466 - val_AUC: 0.4248 - val_loss: 0.2411 - learning_rate: 1.0000e-03\n",
            "Epoch 10/30\n",
            "25/25 - 0s - 10ms/step - AUC: 0.9280 - loss: 0.3136 - val_AUC: 0.4278 - val_loss: 0.2005 - learning_rate: 1.0000e-03\n",
            "Epoch 11/30\n",
            "25/25 - 0s - 11ms/step - AUC: 0.9356 - loss: 0.2996 - val_AUC: 0.4339 - val_loss: 0.2059 - learning_rate: 1.0000e-03\n",
            "Epoch 12/30\n",
            "25/25 - 0s - 9ms/step - AUC: 0.9388 - loss: 0.2966 - val_AUC: 0.4418 - val_loss: 0.2490 - learning_rate: 1.0000e-03\n",
            "Epoch 13/30\n",
            "25/25 - 0s - 10ms/step - AUC: 0.9525 - loss: 0.2643 - val_AUC: 0.4376 - val_loss: 0.2076 - learning_rate: 1.0000e-03\n",
            "Epoch 14/30\n",
            "25/25 - 0s - 12ms/step - AUC: 0.9571 - loss: 0.2442 - val_AUC: 0.4470 - val_loss: 0.2193 - learning_rate: 1.0000e-03\n",
            "Epoch 15/30\n",
            "25/25 - 0s - 11ms/step - AUC: 0.9691 - loss: 0.2130 - val_AUC: 0.4427 - val_loss: 0.2295 - learning_rate: 1.0000e-03\n",
            "Epoch 16/30\n",
            "25/25 - 0s - 12ms/step - AUC: 0.9780 - loss: 0.1887 - val_AUC: 0.4504 - val_loss: 0.2475 - learning_rate: 1.0000e-03\n",
            "Epoch 17/30\n",
            "25/25 - 0s - 9ms/step - AUC: 0.9786 - loss: 0.1769 - val_AUC: 0.4576 - val_loss: 0.2877 - learning_rate: 1.0000e-03\n",
            "Epoch 18/30\n",
            "25/25 - 0s - 10ms/step - AUC: 0.9804 - loss: 0.1731 - val_AUC: 0.4630 - val_loss: 0.3014 - learning_rate: 1.0000e-03\n",
            "Epoch 19/30\n",
            "25/25 - 0s - 12ms/step - AUC: 0.9846 - loss: 0.1514 - val_AUC: 0.4458 - val_loss: 0.3138 - learning_rate: 1.0000e-03\n",
            "Epoch 20/30\n",
            "25/25 - 0s - 9ms/step - AUC: 0.9865 - loss: 0.1463 - val_AUC: 0.4619 - val_loss: 0.3343 - learning_rate: 1.0000e-03\n",
            "Epoch 21/30\n",
            "25/25 - 0s - 12ms/step - AUC: 0.9867 - loss: 0.1440 - val_AUC: 0.4493 - val_loss: 0.3564 - learning_rate: 1.0000e-03\n",
            "Epoch 22/30\n",
            "25/25 - 0s - 12ms/step - AUC: 0.9893 - loss: 0.1238 - val_AUC: 0.4558 - val_loss: 0.3886 - learning_rate: 1.0000e-03\n",
            "Epoch 23/30\n",
            "25/25 - 0s - 9ms/step - AUC: 0.9910 - loss: 0.1227 - val_AUC: 0.4682 - val_loss: 0.3926 - learning_rate: 1.0000e-03\n",
            "Epoch 24/30\n",
            "25/25 - 0s - 9ms/step - AUC: 0.9911 - loss: 0.1185 - val_AUC: 0.4748 - val_loss: 0.4104 - learning_rate: 1.0000e-03\n",
            "Epoch 25/30\n",
            "25/25 - 0s - 12ms/step - AUC: 0.9927 - loss: 0.1056 - val_AUC: 0.4710 - val_loss: 0.4513 - learning_rate: 1.0000e-03\n",
            "Epoch 26/30\n",
            "25/25 - 0s - 12ms/step - AUC: 0.9946 - loss: 0.0934 - val_AUC: 0.4793 - val_loss: 0.4538 - learning_rate: 1.0000e-03\n",
            "Epoch 27/30\n",
            "25/25 - 0s - 9ms/step - AUC: 0.9949 - loss: 0.0868 - val_AUC: 0.4745 - val_loss: 0.5063 - learning_rate: 1.0000e-03\n",
            "Epoch 28/30\n",
            "25/25 - 0s - 9ms/step - AUC: 0.9948 - loss: 0.0889 - val_AUC: 0.4825 - val_loss: 0.5260 - learning_rate: 1.0000e-03\n",
            "Epoch 29/30\n",
            "25/25 - 0s - 9ms/step - AUC: 0.9964 - loss: 0.0791 - val_AUC: 0.4935 - val_loss: 0.5401 - learning_rate: 1.0000e-03\n",
            "Epoch 30/30\n",
            "25/25 - 0s - 10ms/step - AUC: 0.9951 - loss: 0.0865 - val_AUC: 0.4910 - val_loss: 0.5544 - learning_rate: 1.0000e-03\n",
            "\u001b[1m125/125\u001b[0m \u001b[32m━━━━━━━━━━━━━━━━━━━━\u001b[0m\u001b[37m\u001b[0m \u001b[1m0s\u001b[0m 1ms/step\n",
            "ROC AUC: 0.5164157920292832\n",
            "PR AUC: 0.02327653701152159\n",
            "Precision: 0.029411764705882353\n",
            "Recall: 0.04878048780487805\n",
            "F1 Score: 0.03669724770642202\n",
            "Confusion Matrix:\n",
            " [[3786  132]\n",
            " [  78    4]]\n"
          ]
        }
      ]
    }
  ]
}